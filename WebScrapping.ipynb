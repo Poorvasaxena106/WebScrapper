{
  "nbformat": 4,
  "nbformat_minor": 0,
  "metadata": {
    "colab": {
      "provenance": [],
      "authorship_tag": "ABX9TyMTK3ep0tdC2zzoi3agIRzM",
      "include_colab_link": true
    },
    "kernelspec": {
      "name": "python3",
      "display_name": "Python 3"
    },
    "language_info": {
      "name": "python"
    }
  },
  "cells": [
    {
      "cell_type": "markdown",
      "metadata": {
        "id": "view-in-github",
        "colab_type": "text"
      },
      "source": [
        "<a href=\"https://colab.research.google.com/github/Poorvasaxena106/WebScrapper/blob/main/WebScrapping.ipynb\" target=\"_parent\"><img src=\"https://colab.research.google.com/assets/colab-badge.svg\" alt=\"Open In Colab\"/></a>"
      ]
    },
    {
      "cell_type": "code",
      "execution_count": 1,
      "metadata": {
        "id": "FL_z7w4KmD8k"
      },
      "outputs": [],
      "source": [
        "import requests\n",
        "from bs4 import BeautifulSoup\n",
        "import csv"
      ]
    },
    {
      "cell_type": "code",
      "source": [
        "search_input = input(\"Enter job title or type:\")\n",
        "url = \"https://www.dice.com\"\n",
        "search_url = f\"https://www.dice.com/jobs?q={search_input}\"\n",
        "r = requests.get(search_url)\n",
        "r.raise_for_status()\n",
        "\n",
        "soup = BeautifulSoup(r.content, 'html.parser')\n",
        "\n",
        "def save_to_csv(data, filename):\n",
        "    with open(filename, 'w') as f:\n",
        "        writer = csv.writer(f)\n",
        "        for row in data:\n",
        "            writer.writerow(row)\n",
        "\n",
        "job_list = []\n",
        "\n",
        "for job in soup.find_all('div', class_='seo-list-item'):\n",
        "    job_data = {}\n",
        "\n",
        "    title = job.find('h3', class_='title').text.strip()\n",
        "    job_data['Title'] = title\n",
        "\n",
        "    company = job.find('span', class_='company-name').text.strip()\n",
        "    job_data['Company'] = company\n",
        "\n",
        "    location = job.find('span', class_='job-location').text.strip()\n",
        "    job_data['Location'] = location\n",
        "\n",
        "    job_type = job.find('div', class_='card-title--flex').find_all('div')[1].text.strip()\n",
        "    job_data['Job Type'] = job_type\n",
        "\n",
        "    job_list.append(job_data)\n",
        "\n",
        "if len(job_list):\n",
        "    print(job_list)\n",
        "    file_name = f\"{search_input.replace(' ', '_')}_jobs.csv\"\n",
        "    save_to_csv(job_list, file_name)\n",
        "    print(\"Data scraped successfully and saved to: \",file_name)\n",
        "else:\n",
        "    print(\"No job found !\")"
      ],
      "metadata": {
        "colab": {
          "base_uri": "https://localhost:8080/"
        },
        "id": "9I_JIGjBmIHT",
        "outputId": "04bc64ab-b7d2-4932-ee1c-0c9e2f300111"
      },
      "execution_count": 4,
      "outputs": [
        {
          "output_type": "stream",
          "name": "stdout",
          "text": [
            "Enter job title or type:python developer\n",
            "No jobs found !\n"
          ]
        }
      ]
    },
    {
      "cell_type": "code",
      "source": [],
      "metadata": {
        "id": "D-gnVq8HoEG2"
      },
      "execution_count": 3,
      "outputs": []
    }
  ]
}